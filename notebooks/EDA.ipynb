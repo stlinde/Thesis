{
 "cells": [
  {
   "cell_type": "markdown",
   "id": "4766e401",
   "metadata": {},
   "source": [
    "# EDA"
   ]
  },
  {
   "cell_type": "code",
   "execution_count": 1,
   "id": "0cc7f37f",
   "metadata": {},
   "outputs": [],
   "source": [
    "import pandas as pd\n",
    "import seaborn as sns\n",
    "import matplotlib.pyplot as plt\n",
    "import plotly.graph_objects as go\n",
    "import numpy as np\n",
    "import datetime as datetime\n",
    "from sklearn.preprocessing import OrdinalEncoder\n",
    "\n",
    "sns.set()"
   ]
  },
  {
   "cell_type": "code",
   "execution_count": 2,
   "id": "7a4078bf",
   "metadata": {},
   "outputs": [
    {
     "name": "stdout",
     "output_type": "stream",
     "text": [
      "asset_details.csv\t      close-and-volume.png  train.csv\r\n",
      "bitcoin-close-and-volume.png  EDA.ipynb\t\t    train.feather\r\n",
      "bitcoin.feather\t\t      ethereum.feather\r\n"
     ]
    }
   ],
   "source": [
    "!ls"
   ]
  },
  {
   "cell_type": "code",
   "execution_count": 3,
   "id": "266e25a0",
   "metadata": {},
   "outputs": [],
   "source": [
    "df = pd.read_feather(\"bitcoin.feather\")"
   ]
  },
  {
   "cell_type": "code",
   "execution_count": 2,
   "id": "29c28963",
   "metadata": {},
   "outputs": [
    {
     "ename": "NameError",
     "evalue": "name 'df' is not defined",
     "output_type": "error",
     "traceback": [
      "\u001b[0;31m---------------------------------------------------------------------------\u001b[0m",
      "\u001b[0;31mNameError\u001b[0m                                 Traceback (most recent call last)",
      "Input \u001b[0;32mIn [2]\u001b[0m, in \u001b[0;36m<module>\u001b[0;34m\u001b[0m\n\u001b[0;32m----> 1\u001b[0m \u001b[43mdf\u001b[49m\u001b[38;5;241m.\u001b[39mhead()\n",
      "\u001b[0;31mNameError\u001b[0m: name 'df' is not defined"
     ]
    }
   ],
   "source": [
    "df.head()"
   ]
  },
  {
   "cell_type": "code",
   "execution_count": 1,
   "id": "2452ec6f",
   "metadata": {
    "scrolled": false
   },
   "outputs": [
    {
     "ename": "NameError",
     "evalue": "name 'df' is not defined",
     "output_type": "error",
     "traceback": [
      "\u001b[0;31m---------------------------------------------------------------------------\u001b[0m",
      "\u001b[0;31mNameError\u001b[0m                                 Traceback (most recent call last)",
      "Input \u001b[0;32mIn [1]\u001b[0m, in \u001b[0;36m<module>\u001b[0;34m\u001b[0m\n\u001b[0;32m----> 1\u001b[0m initial_price \u001b[38;5;241m=\u001b[39m \u001b[43mdf\u001b[49m[\u001b[38;5;124m'\u001b[39m\u001b[38;5;124mClose\u001b[39m\u001b[38;5;124m'\u001b[39m][\u001b[38;5;241m0\u001b[39m] \u001b[38;5;241m*\u001b[39m np\u001b[38;5;241m.\u001b[39mlinspace(\u001b[38;5;241m0\u001b[39m, \u001b[38;5;28mlen\u001b[39m(df), \u001b[38;5;241m100000\u001b[39m)\n\u001b[1;32m      3\u001b[0m \u001b[38;5;66;03m# specify plot layouts with different width using subplots()\u001b[39;00m\n\u001b[1;32m      4\u001b[0m f, axs \u001b[38;5;241m=\u001b[39m plt\u001b[38;5;241m.\u001b[39msubplots(\u001b[38;5;241m2\u001b[39m,\u001b[38;5;241m1\u001b[39m,\n\u001b[1;32m      5\u001b[0m                       figsize\u001b[38;5;241m=\u001b[39m(\u001b[38;5;241m15\u001b[39m,\u001b[38;5;241m8\u001b[39m),\n\u001b[1;32m      6\u001b[0m                       sharex\u001b[38;5;241m=\u001b[39m\u001b[38;5;28;01mTrue\u001b[39;00m,\n\u001b[1;32m      7\u001b[0m                       gridspec_kw\u001b[38;5;241m=\u001b[39m\u001b[38;5;28mdict\u001b[39m(height_ratios\u001b[38;5;241m=\u001b[39m[\u001b[38;5;241m2\u001b[39m,\u001b[38;5;241m0.5\u001b[39m]))\n",
      "\u001b[0;31mNameError\u001b[0m: name 'df' is not defined"
     ]
    }
   ],
   "source": [
    "initial_price = df['Close'][0] * np.linspace(0, len(df), 100000)\n",
    "\n",
    "# specify plot layouts with different width using subplots()\n",
    "f, axs = plt.subplots(2,1,\n",
    "                      figsize=(15,8),\n",
    "                      sharex=True,\n",
    "                      gridspec_kw=dict(height_ratios=[2,0.5]))\n",
    "\n",
    "# make scatterplot with legends\n",
    "sns.lineplot(data=bitcoin,\n",
    "                x=\"datetime\", y=\"Close\",\n",
    "                ax=axs[0],\n",
    "                ).set(title=\"Bitcoin Close Price & Volume\")\n",
    "s\n",
    "sns.lineplot(data=bitcoin,\n",
    "                x=\"datetime\",\n",
    "                y=\"Volume\",\n",
    "                ax=axs[1],\n",
    "                legend=False)\n",
    "f.tight_layout()\n",
    "plt.savefig('bitcoin-close-and-volume.png')"
   ]
  },
  {
   "cell_type": "code",
   "execution_count": 5,
   "id": "9da03a66",
   "metadata": {},
   "outputs": [],
   "source": [
    "bitcoin_returns = bitcoin"
   ]
  },
  {
   "cell_type": "code",
   "execution_count": 6,
   "id": "6825407a",
   "metadata": {},
   "outputs": [],
   "source": [
    "bitcoin_returns['Pct Change'] = bitcoin['Close'].pct_change()"
   ]
  },
  {
   "cell_type": "code",
   "execution_count": 9,
   "id": "01ebea83",
   "metadata": {},
   "outputs": [],
   "source": [
    "bitcoin_returns['Log Returns'] = np.log(bitcoin['Close']) - np.log(bitcoin['Close'].shift(1))"
   ]
  },
  {
   "cell_type": "code",
   "execution_count": 11,
   "id": "60704fd0",
   "metadata": {},
   "outputs": [],
   "source": [
    "bitcoin_returns['Squared Log Returns'] = bitcoin_returns['Log Returns'] **2"
   ]
  },
  {
   "cell_type": "code",
   "execution_count": 12,
   "id": "cdf425c7",
   "metadata": {},
   "outputs": [
    {
     "data": {
      "text/html": [
       "<div>\n",
       "<style scoped>\n",
       "    .dataframe tbody tr th:only-of-type {\n",
       "        vertical-align: middle;\n",
       "    }\n",
       "\n",
       "    .dataframe tbody tr th {\n",
       "        vertical-align: top;\n",
       "    }\n",
       "\n",
       "    .dataframe thead th {\n",
       "        text-align: right;\n",
       "    }\n",
       "</style>\n",
       "<table border=\"1\" class=\"dataframe\">\n",
       "  <thead>\n",
       "    <tr style=\"text-align: right;\">\n",
       "      <th></th>\n",
       "      <th>index</th>\n",
       "      <th>timestamp</th>\n",
       "      <th>Asset_ID</th>\n",
       "      <th>Count</th>\n",
       "      <th>Open</th>\n",
       "      <th>High</th>\n",
       "      <th>Low</th>\n",
       "      <th>Close</th>\n",
       "      <th>Volume</th>\n",
       "      <th>VWAP</th>\n",
       "      <th>Target</th>\n",
       "      <th>datetime</th>\n",
       "      <th>date</th>\n",
       "      <th>time</th>\n",
       "      <th>date_id</th>\n",
       "      <th>time_id</th>\n",
       "      <th>Pct Change</th>\n",
       "      <th>Log Returns</th>\n",
       "      <th>Squared Log Returns</th>\n",
       "    </tr>\n",
       "  </thead>\n",
       "  <tbody>\n",
       "    <tr>\n",
       "      <th>0</th>\n",
       "      <td>2</td>\n",
       "      <td>1514764860</td>\n",
       "      <td>1</td>\n",
       "      <td>229.0</td>\n",
       "      <td>13835.194000</td>\n",
       "      <td>14013.800000</td>\n",
       "      <td>13666.11</td>\n",
       "      <td>13850.176000</td>\n",
       "      <td>31.550062</td>\n",
       "      <td>13827.062093</td>\n",
       "      <td>-0.014643</td>\n",
       "      <td>2018-01-01 00:01:00</td>\n",
       "      <td>2018-01-01</td>\n",
       "      <td>00:01:00</td>\n",
       "      <td>0</td>\n",
       "      <td>1</td>\n",
       "      <td>NaN</td>\n",
       "      <td>NaN</td>\n",
       "      <td>NaN</td>\n",
       "    </tr>\n",
       "    <tr>\n",
       "      <th>1</th>\n",
       "      <td>10</td>\n",
       "      <td>1514764920</td>\n",
       "      <td>1</td>\n",
       "      <td>235.0</td>\n",
       "      <td>13835.036000</td>\n",
       "      <td>14052.300000</td>\n",
       "      <td>13680.00</td>\n",
       "      <td>13828.102000</td>\n",
       "      <td>31.046432</td>\n",
       "      <td>13840.362591</td>\n",
       "      <td>-0.015037</td>\n",
       "      <td>2018-01-01 00:02:00</td>\n",
       "      <td>2018-01-01</td>\n",
       "      <td>00:02:00</td>\n",
       "      <td>0</td>\n",
       "      <td>2</td>\n",
       "      <td>-0.001594</td>\n",
       "      <td>-0.001595</td>\n",
       "      <td>2.544158e-06</td>\n",
       "    </tr>\n",
       "    <tr>\n",
       "      <th>2</th>\n",
       "      <td>18</td>\n",
       "      <td>1514764980</td>\n",
       "      <td>1</td>\n",
       "      <td>528.0</td>\n",
       "      <td>13823.900000</td>\n",
       "      <td>14000.400000</td>\n",
       "      <td>13601.00</td>\n",
       "      <td>13801.314000</td>\n",
       "      <td>55.061820</td>\n",
       "      <td>13806.068014</td>\n",
       "      <td>-0.010309</td>\n",
       "      <td>2018-01-01 00:03:00</td>\n",
       "      <td>2018-01-01</td>\n",
       "      <td>00:03:00</td>\n",
       "      <td>0</td>\n",
       "      <td>3</td>\n",
       "      <td>-0.001937</td>\n",
       "      <td>-0.001939</td>\n",
       "      <td>3.760083e-06</td>\n",
       "    </tr>\n",
       "    <tr>\n",
       "      <th>3</th>\n",
       "      <td>26</td>\n",
       "      <td>1514765040</td>\n",
       "      <td>1</td>\n",
       "      <td>435.0</td>\n",
       "      <td>13802.512000</td>\n",
       "      <td>13999.000000</td>\n",
       "      <td>13576.28</td>\n",
       "      <td>13768.040000</td>\n",
       "      <td>38.780529</td>\n",
       "      <td>13783.598101</td>\n",
       "      <td>-0.008999</td>\n",
       "      <td>2018-01-01 00:04:00</td>\n",
       "      <td>2018-01-01</td>\n",
       "      <td>00:04:00</td>\n",
       "      <td>0</td>\n",
       "      <td>4</td>\n",
       "      <td>-0.002411</td>\n",
       "      <td>-0.002414</td>\n",
       "      <td>5.826628e-06</td>\n",
       "    </tr>\n",
       "    <tr>\n",
       "      <th>4</th>\n",
       "      <td>34</td>\n",
       "      <td>1514765100</td>\n",
       "      <td>1</td>\n",
       "      <td>742.0</td>\n",
       "      <td>13766.000000</td>\n",
       "      <td>13955.900000</td>\n",
       "      <td>13554.44</td>\n",
       "      <td>13724.914000</td>\n",
       "      <td>108.501637</td>\n",
       "      <td>13735.586842</td>\n",
       "      <td>-0.008079</td>\n",
       "      <td>2018-01-01 00:05:00</td>\n",
       "      <td>2018-01-01</td>\n",
       "      <td>00:05:00</td>\n",
       "      <td>0</td>\n",
       "      <td>5</td>\n",
       "      <td>-0.003132</td>\n",
       "      <td>-0.003137</td>\n",
       "      <td>9.842292e-06</td>\n",
       "    </tr>\n",
       "    <tr>\n",
       "      <th>...</th>\n",
       "      <td>...</td>\n",
       "      <td>...</td>\n",
       "      <td>...</td>\n",
       "      <td>...</td>\n",
       "      <td>...</td>\n",
       "      <td>...</td>\n",
       "      <td>...</td>\n",
       "      <td>...</td>\n",
       "      <td>...</td>\n",
       "      <td>...</td>\n",
       "      <td>...</td>\n",
       "      <td>...</td>\n",
       "      <td>...</td>\n",
       "      <td>...</td>\n",
       "      <td>...</td>\n",
       "      <td>...</td>\n",
       "      <td>...</td>\n",
       "      <td>...</td>\n",
       "      <td>...</td>\n",
       "    </tr>\n",
       "    <tr>\n",
       "      <th>1956277</th>\n",
       "      <td>24236739</td>\n",
       "      <td>1632182160</td>\n",
       "      <td>1</td>\n",
       "      <td>1940.0</td>\n",
       "      <td>42983.780000</td>\n",
       "      <td>43001.850849</td>\n",
       "      <td>42878.26</td>\n",
       "      <td>42899.012857</td>\n",
       "      <td>56.850913</td>\n",
       "      <td>42935.489499</td>\n",
       "      <td>NaN</td>\n",
       "      <td>2021-09-20 23:56:00</td>\n",
       "      <td>2021-09-20</td>\n",
       "      <td>23:56:00</td>\n",
       "      <td>1358</td>\n",
       "      <td>1436</td>\n",
       "      <td>-0.002005</td>\n",
       "      <td>-0.002007</td>\n",
       "      <td>4.029654e-06</td>\n",
       "    </tr>\n",
       "    <tr>\n",
       "      <th>1956278</th>\n",
       "      <td>24236753</td>\n",
       "      <td>1632182220</td>\n",
       "      <td>1</td>\n",
       "      <td>2026.0</td>\n",
       "      <td>42904.197143</td>\n",
       "      <td>42932.000000</td>\n",
       "      <td>42840.16</td>\n",
       "      <td>42860.005714</td>\n",
       "      <td>80.993326</td>\n",
       "      <td>42879.576084</td>\n",
       "      <td>NaN</td>\n",
       "      <td>2021-09-20 23:57:00</td>\n",
       "      <td>2021-09-20</td>\n",
       "      <td>23:57:00</td>\n",
       "      <td>1358</td>\n",
       "      <td>1437</td>\n",
       "      <td>-0.000909</td>\n",
       "      <td>-0.000910</td>\n",
       "      <td>8.275395e-07</td>\n",
       "    </tr>\n",
       "    <tr>\n",
       "      <th>1956279</th>\n",
       "      <td>24236767</td>\n",
       "      <td>1632182280</td>\n",
       "      <td>1</td>\n",
       "      <td>1986.0</td>\n",
       "      <td>42859.385714</td>\n",
       "      <td>42887.500000</td>\n",
       "      <td>42797.20</td>\n",
       "      <td>42827.020000</td>\n",
       "      <td>65.677734</td>\n",
       "      <td>42844.090693</td>\n",
       "      <td>NaN</td>\n",
       "      <td>2021-09-20 23:58:00</td>\n",
       "      <td>2021-09-20</td>\n",
       "      <td>23:58:00</td>\n",
       "      <td>1358</td>\n",
       "      <td>1438</td>\n",
       "      <td>-0.000770</td>\n",
       "      <td>-0.000770</td>\n",
       "      <td>5.927638e-07</td>\n",
       "    </tr>\n",
       "    <tr>\n",
       "      <th>1956280</th>\n",
       "      <td>24236781</td>\n",
       "      <td>1632182340</td>\n",
       "      <td>1</td>\n",
       "      <td>4047.0</td>\n",
       "      <td>42839.012802</td>\n",
       "      <td>43042.160000</td>\n",
       "      <td>42818.10</td>\n",
       "      <td>43017.277143</td>\n",
       "      <td>138.335477</td>\n",
       "      <td>42935.761938</td>\n",
       "      <td>NaN</td>\n",
       "      <td>2021-09-20 23:59:00</td>\n",
       "      <td>2021-09-20</td>\n",
       "      <td>23:59:00</td>\n",
       "      <td>1358</td>\n",
       "      <td>1439</td>\n",
       "      <td>0.004442</td>\n",
       "      <td>0.004433</td>\n",
       "      <td>1.964810e-05</td>\n",
       "    </tr>\n",
       "    <tr>\n",
       "      <th>1956281</th>\n",
       "      <td>24236795</td>\n",
       "      <td>1632182400</td>\n",
       "      <td>1</td>\n",
       "      <td>2698.0</td>\n",
       "      <td>43009.961250</td>\n",
       "      <td>43048.510000</td>\n",
       "      <td>42961.64</td>\n",
       "      <td>43002.505000</td>\n",
       "      <td>128.206820</td>\n",
       "      <td>43011.414052</td>\n",
       "      <td>NaN</td>\n",
       "      <td>2021-09-21 00:00:00</td>\n",
       "      <td>2021-09-21</td>\n",
       "      <td>00:00:00</td>\n",
       "      <td>1359</td>\n",
       "      <td>0</td>\n",
       "      <td>-0.000343</td>\n",
       "      <td>-0.000343</td>\n",
       "      <td>1.179642e-07</td>\n",
       "    </tr>\n",
       "  </tbody>\n",
       "</table>\n",
       "<p>1956282 rows × 19 columns</p>\n",
       "</div>"
      ],
      "text/plain": [
       "            index   timestamp  Asset_ID   Count          Open          High  \\\n",
       "0               2  1514764860         1   229.0  13835.194000  14013.800000   \n",
       "1              10  1514764920         1   235.0  13835.036000  14052.300000   \n",
       "2              18  1514764980         1   528.0  13823.900000  14000.400000   \n",
       "3              26  1514765040         1   435.0  13802.512000  13999.000000   \n",
       "4              34  1514765100         1   742.0  13766.000000  13955.900000   \n",
       "...           ...         ...       ...     ...           ...           ...   \n",
       "1956277  24236739  1632182160         1  1940.0  42983.780000  43001.850849   \n",
       "1956278  24236753  1632182220         1  2026.0  42904.197143  42932.000000   \n",
       "1956279  24236767  1632182280         1  1986.0  42859.385714  42887.500000   \n",
       "1956280  24236781  1632182340         1  4047.0  42839.012802  43042.160000   \n",
       "1956281  24236795  1632182400         1  2698.0  43009.961250  43048.510000   \n",
       "\n",
       "              Low         Close      Volume          VWAP    Target  \\\n",
       "0        13666.11  13850.176000   31.550062  13827.062093 -0.014643   \n",
       "1        13680.00  13828.102000   31.046432  13840.362591 -0.015037   \n",
       "2        13601.00  13801.314000   55.061820  13806.068014 -0.010309   \n",
       "3        13576.28  13768.040000   38.780529  13783.598101 -0.008999   \n",
       "4        13554.44  13724.914000  108.501637  13735.586842 -0.008079   \n",
       "...           ...           ...         ...           ...       ...   \n",
       "1956277  42878.26  42899.012857   56.850913  42935.489499       NaN   \n",
       "1956278  42840.16  42860.005714   80.993326  42879.576084       NaN   \n",
       "1956279  42797.20  42827.020000   65.677734  42844.090693       NaN   \n",
       "1956280  42818.10  43017.277143  138.335477  42935.761938       NaN   \n",
       "1956281  42961.64  43002.505000  128.206820  43011.414052       NaN   \n",
       "\n",
       "                   datetime        date      time  date_id  time_id  \\\n",
       "0       2018-01-01 00:01:00  2018-01-01  00:01:00        0        1   \n",
       "1       2018-01-01 00:02:00  2018-01-01  00:02:00        0        2   \n",
       "2       2018-01-01 00:03:00  2018-01-01  00:03:00        0        3   \n",
       "3       2018-01-01 00:04:00  2018-01-01  00:04:00        0        4   \n",
       "4       2018-01-01 00:05:00  2018-01-01  00:05:00        0        5   \n",
       "...                     ...         ...       ...      ...      ...   \n",
       "1956277 2021-09-20 23:56:00  2021-09-20  23:56:00     1358     1436   \n",
       "1956278 2021-09-20 23:57:00  2021-09-20  23:57:00     1358     1437   \n",
       "1956279 2021-09-20 23:58:00  2021-09-20  23:58:00     1358     1438   \n",
       "1956280 2021-09-20 23:59:00  2021-09-20  23:59:00     1358     1439   \n",
       "1956281 2021-09-21 00:00:00  2021-09-21  00:00:00     1359        0   \n",
       "\n",
       "         Pct Change  Log Returns  Squared Log Returns  \n",
       "0               NaN          NaN                  NaN  \n",
       "1         -0.001594    -0.001595         2.544158e-06  \n",
       "2         -0.001937    -0.001939         3.760083e-06  \n",
       "3         -0.002411    -0.002414         5.826628e-06  \n",
       "4         -0.003132    -0.003137         9.842292e-06  \n",
       "...             ...          ...                  ...  \n",
       "1956277   -0.002005    -0.002007         4.029654e-06  \n",
       "1956278   -0.000909    -0.000910         8.275395e-07  \n",
       "1956279   -0.000770    -0.000770         5.927638e-07  \n",
       "1956280    0.004442     0.004433         1.964810e-05  \n",
       "1956281   -0.000343    -0.000343         1.179642e-07  \n",
       "\n",
       "[1956282 rows x 19 columns]"
      ]
     },
     "execution_count": 12,
     "metadata": {},
     "output_type": "execute_result"
    }
   ],
   "source": [
    "bitcoin_returns"
   ]
  },
  {
   "cell_type": "code",
   "execution_count": 10,
   "id": "47045ead",
   "metadata": {},
   "outputs": [],
   "source": [
    "returns_min_avg = [np.mean(bitcoin[bitcoin['time'] == x]['Pct Change']) for x in bitcoin['time'].unique()]"
   ]
  },
  {
   "cell_type": "code",
   "execution_count": 11,
   "id": "2d273f01",
   "metadata": {},
   "outputs": [
    {
     "data": {
      "text/plain": [
       "<AxesSubplot:>"
      ]
     },
     "execution_count": 11,
     "metadata": {},
     "output_type": "execute_result"
    },
    {
     "data": {
      "image/png": "[encoded data removed]",
      "text/plain": [
       "<Figure size 1080x432 with 1 Axes>"
      ]
     },
     "metadata": {},
     "output_type": "display_data"
    }
   ],
   "source": [
    "plt.figure(figsize=(15,6))\n",
    "sns.lineplot(x=bitcoin['time_id'].unique(), y=returns_min_avg, label='Average Return')\n"
   ]
  },
  {
   "cell_type": "code",
   "execution_count": 99,
   "id": "2e5a5d39",
   "metadata": {},
   "outputs": [],
   "source": [
    "bitcoin_minute = pd.DataFrame()\n",
    "bitcoin_minute['Time'] = bitcoin['time'].unique()\n",
    "bitcoin_minute['Time_ID'] = bitcoin['time_id'].unique()\n",
    "bitcoin_minute[\"Average Return\"] = returns_min_avg"
   ]
  },
  {
   "cell_type": "code",
   "execution_count": 98,
   "id": "dd3279c9",
   "metadata": {},
   "outputs": [
    {
     "data": {
      "text/html": [
       "<div>\n",
       "<style scoped>\n",
       "    .dataframe tbody tr th:only-of-type {\n",
       "        vertical-align: middle;\n",
       "    }\n",
       "\n",
       "    .dataframe tbody tr th {\n",
       "        vertical-align: top;\n",
       "    }\n",
       "\n",
       "    .dataframe thead th {\n",
       "        text-align: right;\n",
       "    }\n",
       "</style>\n",
       "<table border=\"1\" class=\"dataframe\">\n",
       "  <thead>\n",
       "    <tr style=\"text-align: right;\">\n",
       "      <th></th>\n",
       "      <th>Time</th>\n",
       "      <th>Time_ID</th>\n",
       "      <th>Average Return</th>\n",
       "      <th>Rolling Average Return</th>\n",
       "    </tr>\n",
       "  </thead>\n",
       "  <tbody>\n",
       "    <tr>\n",
       "      <th>0</th>\n",
       "      <td>00:01:00</td>\n",
       "      <td>1</td>\n",
       "      <td>581.615370</td>\n",
       "      <td>NaN</td>\n",
       "    </tr>\n",
       "    <tr>\n",
       "      <th>1</th>\n",
       "      <td>00:02:00</td>\n",
       "      <td>2</td>\n",
       "      <td>534.482673</td>\n",
       "      <td>NaN</td>\n",
       "    </tr>\n",
       "    <tr>\n",
       "      <th>2</th>\n",
       "      <td>00:03:00</td>\n",
       "      <td>3</td>\n",
       "      <td>529.045389</td>\n",
       "      <td>NaN</td>\n",
       "    </tr>\n",
       "    <tr>\n",
       "      <th>3</th>\n",
       "      <td>00:04:00</td>\n",
       "      <td>4</td>\n",
       "      <td>610.908579</td>\n",
       "      <td>NaN</td>\n",
       "    </tr>\n",
       "    <tr>\n",
       "      <th>4</th>\n",
       "      <td>00:05:00</td>\n",
       "      <td>5</td>\n",
       "      <td>681.454121</td>\n",
       "      <td>NaN</td>\n",
       "    </tr>\n",
       "    <tr>\n",
       "      <th>...</th>\n",
       "      <td>...</td>\n",
       "      <td>...</td>\n",
       "      <td>...</td>\n",
       "      <td>...</td>\n",
       "    </tr>\n",
       "    <tr>\n",
       "      <th>1435</th>\n",
       "      <td>23:56:00</td>\n",
       "      <td>1436</td>\n",
       "      <td>617.587174</td>\n",
       "      <td>627.723946</td>\n",
       "    </tr>\n",
       "    <tr>\n",
       "      <th>1436</th>\n",
       "      <td>23:57:00</td>\n",
       "      <td>1437</td>\n",
       "      <td>500.107596</td>\n",
       "      <td>606.109179</td>\n",
       "    </tr>\n",
       "    <tr>\n",
       "      <th>1437</th>\n",
       "      <td>23:58:00</td>\n",
       "      <td>1438</td>\n",
       "      <td>624.157755</td>\n",
       "      <td>607.869226</td>\n",
       "    </tr>\n",
       "    <tr>\n",
       "      <th>1438</th>\n",
       "      <td>23:59:00</td>\n",
       "      <td>1439</td>\n",
       "      <td>548.972061</td>\n",
       "      <td>584.176012</td>\n",
       "    </tr>\n",
       "    <tr>\n",
       "      <th>1439</th>\n",
       "      <td>00:00:00</td>\n",
       "      <td>0</td>\n",
       "      <td>668.381778</td>\n",
       "      <td>587.756073</td>\n",
       "    </tr>\n",
       "  </tbody>\n",
       "</table>\n",
       "<p>1440 rows × 4 columns</p>\n",
       "</div>"
      ],
      "text/plain": [
       "          Time  Time_ID  Average Return  Rolling Average Return\n",
       "0     00:01:00        1      581.615370                     NaN\n",
       "1     00:02:00        2      534.482673                     NaN\n",
       "2     00:03:00        3      529.045389                     NaN\n",
       "3     00:04:00        4      610.908579                     NaN\n",
       "4     00:05:00        5      681.454121                     NaN\n",
       "...        ...      ...             ...                     ...\n",
       "1435  23:56:00     1436      617.587174              627.723946\n",
       "1436  23:57:00     1437      500.107596              606.109179\n",
       "1437  23:58:00     1438      624.157755              607.869226\n",
       "1438  23:59:00     1439      548.972061              584.176012\n",
       "1439  00:00:00        0      668.381778              587.756073\n",
       "\n",
       "[1440 rows x 4 columns]"
      ]
     },
     "execution_count": 98,
     "metadata": {},
     "output_type": "execute_result"
    }
   ],
   "source": [
    "bitcoin_minute"
   ]
  },
  {
   "cell_type": "code",
   "execution_count": 11,
   "id": "2ed34c1b",
   "metadata": {},
   "outputs": [],
   "source": [
    "bitcoin['date'] = pd.to_datetime(bitcoin['date'])"
   ]
  },
  {
   "cell_type": "code",
   "execution_count": 12,
   "id": "d0fa6d90",
   "metadata": {
    "scrolled": true
   },
   "outputs": [
    {
     "data": {
      "text/plain": [
       "0         2018-01-01\n",
       "1         2018-01-01\n",
       "2         2018-01-01\n",
       "3         2018-01-01\n",
       "4         2018-01-01\n",
       "             ...    \n",
       "1956277   2021-09-20\n",
       "1956278   2021-09-20\n",
       "1956279   2021-09-20\n",
       "1956280   2021-09-20\n",
       "1956281   2021-09-21\n",
       "Name: date, Length: 1956282, dtype: datetime64[ns]"
      ]
     },
     "execution_count": 12,
     "metadata": {},
     "output_type": "execute_result"
    }
   ],
   "source": [
    "bitcoin['date']"
   ]
  },
  {
   "cell_type": "code",
   "execution_count": 13,
   "id": "981720d1",
   "metadata": {},
   "outputs": [],
   "source": [
    "bitcoin['Day'] = bitcoin['date'].dt.dayofyear"
   ]
  },
  {
   "cell_type": "code",
   "execution_count": 14,
   "id": "4740e45c",
   "metadata": {
    "scrolled": true
   },
   "outputs": [
    {
     "data": {
      "text/plain": [
       "0            1\n",
       "1            1\n",
       "2            1\n",
       "3            1\n",
       "4            1\n",
       "          ... \n",
       "1956277    263\n",
       "1956278    263\n",
       "1956279    263\n",
       "1956280    263\n",
       "1956281    264\n",
       "Name: Day, Length: 1956282, dtype: int64"
      ]
     },
     "execution_count": 14,
     "metadata": {},
     "output_type": "execute_result"
    }
   ],
   "source": [
    "bitcoin['Day']"
   ]
  },
  {
   "cell_type": "code",
   "execution_count": 19,
   "id": "3f420556",
   "metadata": {},
   "outputs": [],
   "source": [
    "bitcoin_daily = pd.DataFrame()\n",
    "bitcoin_daily['Date'] = bitcoin['date'].unique()\n"
   ]
  },
  {
   "cell_type": "code",
   "execution_count": 20,
   "id": "33870873",
   "metadata": {},
   "outputs": [
    {
     "data": {
      "text/html": [
       "<div>\n",
       "<style scoped>\n",
       "    .dataframe tbody tr th:only-of-type {\n",
       "        vertical-align: middle;\n",
       "    }\n",
       "\n",
       "    .dataframe tbody tr th {\n",
       "        vertical-align: top;\n",
       "    }\n",
       "\n",
       "    .dataframe thead th {\n",
       "        text-align: right;\n",
       "    }\n",
       "</style>\n",
       "<table border=\"1\" class=\"dataframe\">\n",
       "  <thead>\n",
       "    <tr style=\"text-align: right;\">\n",
       "      <th></th>\n",
       "      <th>Date</th>\n",
       "    </tr>\n",
       "  </thead>\n",
       "  <tbody>\n",
       "    <tr>\n",
       "      <th>0</th>\n",
       "      <td>2018-01-01</td>\n",
       "    </tr>\n",
       "    <tr>\n",
       "      <th>1</th>\n",
       "      <td>2018-01-02</td>\n",
       "    </tr>\n",
       "    <tr>\n",
       "      <th>2</th>\n",
       "      <td>2018-01-03</td>\n",
       "    </tr>\n",
       "    <tr>\n",
       "      <th>3</th>\n",
       "      <td>2018-01-04</td>\n",
       "    </tr>\n",
       "    <tr>\n",
       "      <th>4</th>\n",
       "      <td>2018-01-05</td>\n",
       "    </tr>\n",
       "    <tr>\n",
       "      <th>...</th>\n",
       "      <td>...</td>\n",
       "    </tr>\n",
       "    <tr>\n",
       "      <th>1355</th>\n",
       "      <td>2021-09-17</td>\n",
       "    </tr>\n",
       "    <tr>\n",
       "      <th>1356</th>\n",
       "      <td>2021-09-18</td>\n",
       "    </tr>\n",
       "    <tr>\n",
       "      <th>1357</th>\n",
       "      <td>2021-09-19</td>\n",
       "    </tr>\n",
       "    <tr>\n",
       "      <th>1358</th>\n",
       "      <td>2021-09-20</td>\n",
       "    </tr>\n",
       "    <tr>\n",
       "      <th>1359</th>\n",
       "      <td>2021-09-21</td>\n",
       "    </tr>\n",
       "  </tbody>\n",
       "</table>\n",
       "<p>1360 rows × 1 columns</p>\n",
       "</div>"
      ],
      "text/plain": [
       "            Date\n",
       "0     2018-01-01\n",
       "1     2018-01-02\n",
       "2     2018-01-03\n",
       "3     2018-01-04\n",
       "4     2018-01-05\n",
       "...          ...\n",
       "1355  2021-09-17\n",
       "1356  2021-09-18\n",
       "1357  2021-09-19\n",
       "1358  2021-09-20\n",
       "1359  2021-09-21\n",
       "\n",
       "[1360 rows x 1 columns]"
      ]
     },
     "execution_count": 20,
     "metadata": {},
     "output_type": "execute_result"
    }
   ],
   "source": [
    "bitcoin_daily"
   ]
  },
  {
   "cell_type": "code",
   "execution_count": 13,
   "id": "64372ce5",
   "metadata": {},
   "outputs": [],
   "source": [
    "bitcoin_realized_var = [sum(bitcoin_returns[bitcoin_returns['date_id'] == x]['Squared Log Returns']) for x in bitcoin_returns['date_id'].unique()]"
   ]
  },
  {
   "cell_type": "code",
   "execution_count": 15,
   "id": "8f6f9c1c",
   "metadata": {},
   "outputs": [
    {
     "data": {
      "text/plain": [
       "1360"
      ]
     },
     "execution_count": 15,
     "metadata": {},
     "output_type": "execute_result"
    }
   ],
   "source": [
    "len(bitcoin_realized_var)"
   ]
  },
  {
   "cell_type": "code",
   "execution_count": 23,
   "id": "224b75b0",
   "metadata": {},
   "outputs": [
    {
     "data": {
      "text/plain": [
       "<AxesSubplot:xlabel='Date'>"
      ]
     },
     "execution_count": 23,
     "metadata": {},
     "output_type": "execute_result"
    },
    {
     "data": {
      "image/png": "[encoded data removed]",
      "text/plain": [
       "<Figure size 1080x576 with 1 Axes>"
      ]
     },
     "metadata": {},
     "output_type": "display_data"
    }
   ],
   "source": [
    "plt.figure(figsize=(15,8))\n",
    "sns.lineplot(x=bitcoin_daily['Date'], y=bitcoin_realized_var)"
   ]
  },
  {
   "cell_type": "code",
   "execution_count": 27,
   "id": "8b0db6ef",
   "metadata": {},
   "outputs": [
    {
     "data": {
      "text/plain": [
       "(0.0, 0.1)"
      ]
     },
     "execution_count": 27,
     "metadata": {},
     "output_type": "execute_result"
    },
    {
     "data": {
      "image/png": "[encoded data removed]",
      "text/plain": [
       "<Figure size 432x288 with 1 Axes>"
      ]
     },
     "metadata": {},
     "output_type": "display_data"
    }
   ],
   "source": [
    "sns.kdeplot(bitcoin_realized_var)\n",
    "plt.xlim(0,0.1)"
   ]
  },
  {
   "cell_type": "markdown",
   "id": "48177b61",
   "metadata": {},
   "source": [
    "## "
   ]
  }
 ],
 "metadata": {
  "kernelspec": {
   "display_name": "Python 3 (ipykernel)",
   "language": "python",
   "name": "python3"
  },
  "language_info": {
   "codemirror_mode": {
    "name": "ipython",
    "version": 3
   },
   "file_extension": ".py",
   "mimetype": "text/x-python",
   "name": "python",
   "nbconvert_exporter": "python",
   "pygments_lexer": "ipython3",
   "version": "3.10.4"
  }
 },
 "nbformat": 4,
 "nbformat_minor": 5
}
